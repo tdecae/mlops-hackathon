{
 "cells": [
  {
   "cell_type": "markdown",
   "metadata": {
    "id": "JAPoU8Sm5E6e"
   },
   "source": [
    "# MLOps Hackathon\n",
    "\n",
    "This hackathon is based on the [open-source Turbo Template](https://github.com/teamdatatonic/vertex-pipelines-end-to-end-samples).\n",
    "Through this notebook series you'll get hands-on with the template and Google Cloud.\n",
    "The hackathon is structured into the following exercises:\n",
    "\n",
    "1. [Health check](./01_health_check.ipynb)\n",
    "1. [Run pipelines](./02_run_pipelines.ipynb)\n",
    "1. [Promote model](./03_promote_model.ipynb)\n",
    "1. **[Challenge: Model monitoring](./04_monitoring_challenge.ipynb) - this notebook**\n",
    "1. [Challenge: Real-time predictions](./05_realtime_challenge.ipynb)\n",
    "\n",
    "## Introduction\n",
    "\n",
    "In this challenge, you (or your team) is asked to monitor your pipelines in depth.\n",
    "This involves granular logging, the creation of alerts, and proper notification channels, so that you can mitigate in case your alert is fired."
   ]
  },
  {
   "cell_type": "markdown",
   "metadata": {},
   "source": [
    "## Locate logs\n",
    "\n",
    "**➡️ Exercise:** Where are logs of pipelines running in Vertex AI persisted? This includes your training (and prediction pipeline).\n",
    "\n",
    "**➡️ Exercise:** Open a previous pipeline run:\n",
    "1. Investigate the logs of each step. \n",
    "1. Can you filter logs? If so, find a specific log (e.g. in your model training step).\n",
    "1. Aim to get a good understanding of how logs are structured and read through the documentation of the respective Google Cloud service."
   ]
  },
  {
   "cell_type": "markdown",
   "metadata": {},
   "source": [
    "## What are alerts?\n",
    "\n",
    "**➡️ Exercise:** Read through the Google Cloud documentation to get an understanding of how alerts can be configured:\n",
    "\n",
    "- https://cloud.google.com/logging/docs/alerting/log-based-alerts \n",
    "- https://cloud.google.com/monitoring/support/notification-options\n"
   ]
  },
  {
   "cell_type": "markdown",
   "metadata": {},
   "source": [
    "## Create an alert\n",
    "\n",
    "**➡️ Exercise:** Locate your training container, add or update logs which you want to capture. You can be creative but really consider what kind of alerts are crucial to be notified upon in your pipeline.\n",
    "\n",
    "**➡️ Exercise:** Rebuild the training container, execute the training pipeline, and observe whether your expected log is printed.\n",
    "\n",
    "**➡️ Exercise:** Based on the documentation in the previous exercise, create an alert and notification channel for this log."
   ]
  },
  {
   "cell_type": "markdown",
   "metadata": {},
   "source": [
    "## Fire an alert 🔥\n",
    "\n",
    "**➡️ Exercise:** Rerun your training pipeline wait until you (or you team) are alerted!\n",
    "\n",
    "**➡️ Exercise:** You have seen different ways of receiving notifications, can you think about a different channel or even triggering an automated workflow based on an alert? Be creative!"
   ]
  },
  {
   "cell_type": "markdown",
   "metadata": {},
   "source": [
    "Congratulations! 🎉 You've successfully solved the challenge. "
   ]
  }
 ],
 "metadata": {
  "colab": {
   "collapsed_sections": [],
   "name": "notebook_template.ipynb",
   "toc_visible": true
  },
  "kernelspec": {
   "display_name": "Python 3 (ipykernel)",
   "language": "python",
   "name": "python3"
  },
  "language_info": {
   "codemirror_mode": {
    "name": "ipython",
    "version": 3
   },
   "file_extension": ".py",
   "mimetype": "text/x-python",
   "name": "python",
   "nbconvert_exporter": "python",
   "pygments_lexer": "ipython3",
   "version": "3.9.16"
  },
  "vscode": {
   "interpreter": {
    "hash": "bb5c7b0035bb37e2e2e56e6840dfdd8f7fa070884ae8e041fbcae450545b1006"
   }
  }
 },
 "nbformat": 4,
 "nbformat_minor": 4
}
