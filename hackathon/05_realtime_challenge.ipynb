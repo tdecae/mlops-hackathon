{
 "cells": [
  {
   "cell_type": "markdown",
   "metadata": {
    "id": "JAPoU8Sm5E6e"
   },
   "source": [
    "# MLOps Hackathon\n",
    "\n",
    "This hackathon is based on the [open-source Turbo Template](https://github.com/teamdatatonic/vertex-pipelines-end-to-end-samples).\n",
    "Through this notebook series you'll get hands-on with the template and Google Cloud.\n",
    "The hackathon is structured into the following exercises:\n",
    "\n",
    "1. [Health check](./01_health_check.ipynb)\n",
    "1. [Run pipelines](./02_run_pipelines.ipynb)\n",
    "1. [Promote model](./03_promote_model.ipynb)\n",
    "1. [Challenge: Model monitoring](./04_monitoring_challenge.ipynb)\n",
    "1. **[Challenge: Real-time predictions](./05_realtime_challenge.ipynb) - this notebook**\n",
    "\n",
    "## Introduction\n",
    "\n",
    "In this challenge, you (or your team) is asked to create an application which can return predictions in near real-time.\n",
    "This involves creating an endpoint for your model and a UI which can send requests to the endpoint and visualise prediction results."
   ]
  },
  {
   "cell_type": "markdown",
   "metadata": {},
   "source": [
    "## Deploy your endpoint\n",
    "\n",
    "**➡️ Exercise:** Read through the Google Cloud documentation to get an understanding of how to create an endpoint in Vertex AI:\n",
    "\n",
    "- https://cloud.google.com/vertex-ai/docs/general/deployment \n",
    "\n",
    "**➡️ Exercise:** Locate your trained model in the model registry and manually deploy to a new endpoint. "
   ]
  },
  {
   "cell_type": "markdown",
   "metadata": {},
   "source": [
    "## Get predictions from your endpoint\n",
    "\n",
    "**➡️ Exercise:** Complete the code below to get a prediction from your deployed endpoint and print the result."
   ]
  },
  {
   "cell_type": "code",
   "execution_count": null,
   "metadata": {},
   "outputs": [],
   "source": [
    "from google.cloud import aiplatform\n",
    "from google.cloud.aiplatform import Endpoint\n",
    "\n",
    "aiplatform.init(\n",
    "    project=\"...\",\n",
    "    location=\"...\" # e.g. europe-west2\n",
    ")"
   ]
  },
  {
   "cell_type": "code",
   "execution_count": null,
   "metadata": {},
   "outputs": [],
   "source": [
    "endpoint = Endpoint(\n",
    "    \"...\", # e.g. 2081322734821834752\n",
    ")"
   ]
  },
  {
   "cell_type": "markdown",
   "metadata": {},
   "source": [
    "**➡️ Exercise:** Study the training dataset in BigQuery and the training script to understand what kind of input features are required by the model."
   ]
  },
  {
   "cell_type": "code",
   "execution_count": null,
   "metadata": {},
   "outputs": [],
   "source": [
    "endpoint.predict(\n",
    "    instances=[\n",
    "        {\n",
    "            \"dayofweek\": 1, \n",
    "            \"hourofday\": 1, \n",
    "            \"trip_distance\": 1, \n",
    "            \"trip_miles\": 1, \n",
    "            \"trip_seconds\": 1, \n",
    "            \"company\": \"...\",\n",
    "            \"payment_type\": \"...\"\n",
    "        }\n",
    "    ]\n",
    ")"
   ]
  },
  {
   "cell_type": "markdown",
   "metadata": {},
   "source": [
    "### 3. Connect the UI to your model"
   ]
  },
  {
   "cell_type": "markdown",
   "metadata": {},
   "source": [
    "**➡️ Exercise:** Find below sample code to create a simple UI. Use the prediction from above to create an inactive way of returning predictions. Be creative!"
   ]
  },
  {
   "cell_type": "code",
   "execution_count": null,
   "metadata": {},
   "outputs": [],
   "source": [
    "import gradio as gr\n",
    "\n",
    "\n",
    "def predict(dayofweek):\n",
    "    result = endpoint.predict(\n",
    "        instances=[ \n",
    "            # ... \n",
    "        ]\n",
    "    )\n",
    "    return result.predictions[0]\n",
    "\n",
    "\n",
    "demo = gr.Interface(\n",
    "    title=\"Title ...\", \n",
    "    description=\"Lorem ipsum ...\",\n",
    "    article=\"How to use: ...\",\n",
    "    fn=predict,\n",
    "    inputs=[\n",
    "        gr.Dropdown(choices=[\"Monday\", \"Tuesday\", \"Wednesday\", \"Thursday\", \"Friday\", \"Saturday\", \"Sunday\"], type=\"index\", value=\"Monday\")\n",
    "    ],\n",
    "    outputs=[\"number\"],\n",
    ")\n",
    "\n",
    "demo.launch()"
   ]
  },
  {
   "cell_type": "markdown",
   "metadata": {},
   "source": [
    "### Deploy your model continuously\n",
    "\n",
    "**➡️ Exercise:** Read  the Google Cloud documentation to get an understanding of how to create an endpoint in Vertex AI in a pipeline:\n",
    "\n",
    "- https://google-cloud-pipeline-components.readthedocs.io/en/google-cloud-pipeline-components-2.0.0/api/v1/endpoint.html#v1.endpoint.ModelDeployOp\n",
    "\n",
    "\n",
    "**➡️ Exercise:** Extend the training pipeline to deploy a model automatically to an endpoint once the training is finished and the model is uploaded to the model registry."
   ]
  },
  {
   "cell_type": "markdown",
   "metadata": {},
   "source": [
    "Congratulations! 🎉 You've successfully solved the challenge."
   ]
  }
 ],
 "metadata": {
  "colab": {
   "collapsed_sections": [],
   "name": "notebook_template.ipynb",
   "toc_visible": true
  },
  "kernelspec": {
   "display_name": "Python 3 (ipykernel)",
   "language": "python",
   "name": "python3"
  },
  "language_info": {
   "codemirror_mode": {
    "name": "ipython",
    "version": 3
   },
   "file_extension": ".py",
   "mimetype": "text/x-python",
   "name": "python",
   "nbconvert_exporter": "python",
   "pygments_lexer": "ipython3",
   "version": "3.9.16"
  },
  "vscode": {
   "interpreter": {
    "hash": "bb5c7b0035bb37e2e2e56e6840dfdd8f7fa070884ae8e041fbcae450545b1006"
   }
  }
 },
 "nbformat": 4,
 "nbformat_minor": 4
}
